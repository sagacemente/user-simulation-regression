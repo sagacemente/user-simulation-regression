{
 "cells": [
  {
   "cell_type": "code",
   "execution_count": 20,
   "id": "9e5de2dd",
   "metadata": {},
   "outputs": [],
   "source": [
    "import keras\n",
    "import tensorflow as tf\n",
    "from tensorflow import keras\n",
    "from keras.models import Model\n",
    "from tensorflow.keras import layers\n",
    "\n",
    "import numpy as np\n",
    "import matplotlib.pyplot as plt\n",
    "import os"
   ]
  },
  {
   "cell_type": "code",
   "execution_count": 9,
   "id": "7ba11cef",
   "metadata": {},
   "outputs": [],
   "source": [
    "num_samples, img_features_grid = 100 , 256\n",
    "num_user_feature = 10 + 2\n",
    "\n",
    "xtrain = np.random.rand(num_samples, \n",
    "                        img_features_grid)\n",
    "\n",
    "ytrain = np.random.rand(num_samples, \n",
    "                        num_user_feature)\n",
    "\n",
    "xtest = np.random.rand(num_samples, \n",
    "                        img_features_grid)\n",
    "\n",
    "ytest = np.random.rand(num_samples, \n",
    "                        num_user_feature)"
   ]
  },
  {
   "cell_type": "code",
   "execution_count": 31,
   "id": "47b23c7c",
   "metadata": {},
   "outputs": [
    {
     "name": "stdout",
     "output_type": "stream",
     "text": [
      "Model: \"USER_PREFERENCE_REGRESSION\"\n",
      "_________________________________________________________________\n",
      " Layer (type)                Output Shape              Param #   \n",
      "=================================================================\n",
      " input_layer (InputLayer)    [(None, 256)]             0         \n",
      "                                                                 \n",
      " dense1 (Dense)              (None, 128)               32896     \n",
      "                                                                 \n",
      " dense2 (Dense)              (None, 64)                8256      \n",
      "                                                                 \n",
      " dropout (Dropout)           (None, 64)                0         \n",
      "                                                                 \n",
      " final_layer (Dense)         (None, 12)                780       \n",
      "                                                                 \n",
      "=================================================================\n",
      "Total params: 41,932\n",
      "Trainable params: 41,932\n",
      "Non-trainable params: 0\n",
      "_________________________________________________________________\n",
      "Epoch 1/3\n",
      "4/4 - 1s - loss: 0.1619 - val_loss: 0.1338 - 926ms/epoch - 232ms/step\n",
      "Epoch 2/3\n",
      "4/4 - 0s - loss: 0.1305 - val_loss: 0.1336 - 86ms/epoch - 21ms/step\n",
      "Epoch 3/3\n",
      "4/4 - 0s - loss: 0.1219 - val_loss: 0.1165 - 55ms/epoch - 14ms/step\n"
     ]
    },
    {
     "data": {
      "image/png": "[encoded data removed]",
      "text/plain": [
       "<Figure size 432x288 with 1 Axes>"
      ]
     },
     "metadata": {
      "needs_background": "light"
     },
     "output_type": "display_data"
    },
    {
     "name": "stdout",
     "output_type": "stream",
     "text": [
      "INFO:tensorflow:Assets written to: C:\\Users\\ospite\\Documents\\user-simulation-regression\\notebooks\\model\\assets\n"
     ]
    }
   ],
   "source": [
    "#model dimensions, hyperparams, loss\n",
    "hidden_dim1 = 128\n",
    "hidden_dim2 = 64\n",
    "drop_out = 0.75\n",
    "optimizer = 'adam'\n",
    "loss = 'huber'\n",
    "batch_size = 32 \n",
    "epochs =  3\n",
    "\n",
    "\n",
    "#define model\n",
    "input_user = layers.Input(shape=(xtrain.shape[1]), name='input_layer')\n",
    "\n",
    "dense1 = layers.Dense(hidden_dim1, activation='relu', name='dense1')(input_user) #(dense1)\n",
    "dense2 = layers.Dense(hidden_dim2, activation='relu',  name='dense2')(dense1)     #(dense2)\n",
    "dpout = layers.Dropout(drop_out, name='dropout')(dense2)\n",
    "output = layers.Dense(num_user_feature, activation='relu', name = 'final_layer')(dpout)\n",
    "\n",
    "\n",
    "\n",
    "\n",
    "\n",
    "\n",
    "#INITIALIZE THE MODEL AND COMPILE IO \n",
    "model = Model(inputs  = input_user, \n",
    "              outputs = [output],\n",
    "              name = 'USER_PREFERENCE_REGRESSION')\n",
    "\n",
    "\n",
    "model.compile(loss={'final_layer': 'huber', \n",
    "                   },\n",
    "              #loss_weights={},\n",
    "              optimizer=optimizer\n",
    "              )\n",
    "\n",
    "#MODEL SUMMARY PRINT\n",
    "model.summary()\n",
    "\n",
    "\n",
    "#Fit Data \n",
    "history = model.fit(xtrain, {'final_layer': ytrain},\n",
    "\n",
    "                    validation_data= (xtest, \n",
    "                                      {'final_layer': ytest}),\n",
    "\n",
    "                    \n",
    "                    batch_size=batch_size,\n",
    "                    epochs=epochs,\n",
    "\n",
    "                    verbose=2,\n",
    "                    shuffle=True\n",
    "                    )\n",
    "\n",
    "\n",
    "plt.plot(history.history['loss'],     label='train')\n",
    "plt.plot(history.history['val_loss'], label='test')\n",
    "plt.legend()\n",
    "plt.title('total loss')\n",
    "plt.show()\n",
    "name = 'model'\n",
    "name_m = os.getcwd() + '\\\\'+ name\n",
    "model.save(name_m)"
   ]
  },
  {
   "cell_type": "code",
   "execution_count": 26,
   "id": "bd996209",
   "metadata": {},
   "outputs": [
    {
     "name": "stdout",
     "output_type": "stream",
     "text": [
      "You must install pydot (`pip install pydot`) and install graphviz (see instructions at https://graphviz.gitlab.io/download/) for plot_model/model_to_dot to work.\n"
     ]
    }
   ],
   "source": [
    "#tf.keras.utils.plot_model(model,\n",
    "#                          to_file=\"model.png\",\n",
    "#                          show_shapes=True,\n",
    "#                          rankdir=\"TB\")"
   ]
  },
  {
   "cell_type": "code",
   "execution_count": 30,
   "id": "b139ff70",
   "metadata": {},
   "outputs": [],
   "source": [
    "def fit_model(xtrain, ytrain, xtest, ytest,\n",
    "              hidden_dim1 = 128,hidden_dim2 = 64,drop_out = 0.75,optimizer = 'adam',loss = 'huber', \n",
    "              batch_size = 32 ,epochs=3, \n",
    "              PLOT=True, name = 'model'):\n",
    "    #define model\n",
    "    input_user = layers.Input(shape=(xtrain.shape[1]), name='input_layer')\n",
    "\n",
    "    dense1 = layers.Dense(hidden_dim1, activation='relu', name='dense1')(input_user) #(dense1)\n",
    "    dense2 = layers.Dense(hidden_dim2, activation='relu',  name='dense2')(dense1)     #(dense2)\n",
    "    dpout = layers.Dropout(drop_out, name='dropout')(dense2)\n",
    "    output = layers.Dense(num_user_feature, activation='relu', name = 'final_layer')(dpout)\n",
    "\n",
    "\n",
    "\n",
    "    #INITIALIZE THE MODEL AND COMPILE IO \n",
    "    model = Model(inputs  = input_user, \n",
    "                  outputs = [output],\n",
    "                  name = 'USER_PREFERENCE_REGRESSION')\n",
    "\n",
    "\n",
    "    model.compile(loss={'final_layer': 'huber', \n",
    "                       },\n",
    "                  #loss_weights={},\n",
    "                  optimizer=optimizer\n",
    "                  )\n",
    "\n",
    "    #MODEL SUMMARY PRINT\n",
    "    model.summary()\n",
    "\n",
    "\n",
    "    #Fit Data \n",
    "    history = model.fit(xtrain, {'final_layer': ytrain},\n",
    "\n",
    "                        validation_data= (xtest, \n",
    "                                          {'final_layer': ytest}),\n",
    "\n",
    "\n",
    "                        batch_size=batch_size,\n",
    "                        epochs=epochs,\n",
    "\n",
    "                        verbose=2,\n",
    "                        shuffle=True\n",
    "                        )\n",
    "    if PLOT == True:\n",
    "        plt.plot(history.history['loss'],     label='train')\n",
    "        plt.plot(history.history['val_loss'], label='test')\n",
    "        plt.legend()\n",
    "        plt.title('total loss')\n",
    "        plt.show()\n",
    "    if save_model == True:\n",
    "        name_m = os.getcwd() + '\\\\'+ name\n",
    "        model.save(name_m)\n",
    "    return model, history"
   ]
  },
  {
   "cell_type": "code",
   "execution_count": null,
   "id": "0c158110",
   "metadata": {},
   "outputs": [],
   "source": [
    "def make_predictions(model_path, samples_to_be_predicted, \n",
    "                    batch_size=32):\n",
    "    \n",
    "    # Load the model\n",
    "    model = keras.models.load_model(filepath, compile = True)\n",
    "    \n",
    "    #make predictions\n",
    "    predictions = model.predict(samples_to_be_predicted)\n",
    "    return predictions"
   ]
  }
 ],
 "metadata": {
  "kernelspec": {
   "display_name": "Python 3 (ipykernel)",
   "language": "python",
   "name": "python3"
  },
  "language_info": {
   "codemirror_mode": {
    "name": "ipython",
    "version": 3
   },
   "file_extension": ".py",
   "mimetype": "text/x-python",
   "name": "python",
   "nbconvert_exporter": "python",
   "pygments_lexer": "ipython3",
   "version": "3.9.11"
  }
 },
 "nbformat": 4,
 "nbformat_minor": 5
}
